{
 "cells": [
  {
   "cell_type": "markdown",
   "id": "6bc5b211",
   "metadata": {},
   "source": [
    "# Finance Agent using LangChain (LlaMa-3 | Groq API)\n",
    "\n",
    "## Table of Contents\n",
    "\n",
    "1. **Load LLM (LlaMa-3)**\n",
    "2. **Define Finance Tools**\n",
    "3. **Create Finance Agent (LLM + Tools)**\n",
    "\n",
    "## Finance Agent Capabilities\n",
    "\n",
    "* **Stock Company Basic Information**\n",
    "    * Address, Industry, Sector, business summary, website, etc.\n",
    "    * Top Company Officers\n",
    "* **Stock Financials**\n",
    "    * Market Cap, current price, ebitda, total debt, total revenue, debt-to-equity, P/E ratio, operating margins, ebitda margins, operating cashflow, free cashflow, etc.\n",
    "* **Stock Dividend & Earnings Dates**\n",
    "* **Information about Mutual Fund Holders**\n",
    "* **Information about Institutional Holders**\n",
    "* **Stock Splits History**\n",
    "* **Stock Ratings Upgrades & Downgrades by various Companies**\n",
    "* **News Articles about Stock**"
   ]
  },
  {
   "cell_type": "code",
   "execution_count": null,
   "id": "4d3a9aa8",
   "metadata": {
    "scrolled": true
   },
   "outputs": [],
   "source": [
    "import dotenv\n",
    "\n",
    "dotenv.load_dotenv('/Users/ali.shamsaddinlou/Documents/codes/moonky/.env')"
   ]
  },
  {
   "cell_type": "code",
   "execution_count": null,
   "id": "56d1d848",
   "metadata": {},
   "outputs": [],
   "source": [
    "import os\n",
    "print(os.getcwd())"
   ]
  },
  {
   "cell_type": "code",
   "execution_count": null,
   "id": "c6b94d4e",
   "metadata": {},
   "outputs": [],
   "source": [
    "import os\n",
    "\n",
    "groq_api_key = os.environ[\"GQ_API_KEYRO\"]"
   ]
  },
  {
   "cell_type": "code",
   "execution_count": null,
   "id": "d372bdd7",
   "metadata": {},
   "outputs": [],
   "source": [
    "import yfinance as yf\n",
    "\n",
    "yf.__version__"
   ]
  },
  {
   "cell_type": "markdown",
   "id": "523b4900",
   "metadata": {},
   "source": [
    "## 1. Load LLM\n",
    "\n",
    "* Login to **https://console.groq.com** and create API Key.\n",
    "\n",
    "### Groq Models\n",
    "\n",
    "ID|\tREQUESTS PER MINUTE|\tREQUESTS PER DAY|\tTOKENS PER MINUTE\n",
    "-|-|-|-\n",
    "llama3-70b-8192\t|30\t|14,400\t|6,000\n",
    "llama3-8b-8192\t|30\t|14,400\t|30,000\n",
    "gemma-7b-it\t|30\t|14,400\t|15,000\n",
    "mixtral-8x7b-32768\t|30\t|14,400\t|5,000\n",
    "\n",
    "\n",
    "* **pip install langchain-groq**"
   ]
  },
  {
   "cell_type": "code",
   "execution_count": null,
   "id": "500ab187",
   "metadata": {},
   "outputs": [],
   "source": [
    "from langchain_groq import ChatGroq\n",
    "\n",
    "llama3 = ChatGroq(api_key=\"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\", model=\"llama-3.1-70b-versatile\")\n",
    "\n",
    "llama3"
   ]
  },
  {
   "cell_type": "code",
   "execution_count": null,
   "id": "f07b791b",
   "metadata": {},
   "outputs": [],
   "source": [
    "llama3.invoke(\"Hello, How are you?\")"
   ]
  },
  {
   "cell_type": "markdown",
   "id": "d28fb994",
   "metadata": {},
   "source": [
    "## 2. Define Tools"
   ]
  },
  {
   "cell_type": "code",
   "execution_count": null,
   "id": "ff145094",
   "metadata": {},
   "outputs": [],
   "source": [
    "from langchain_core.tools import tool, StructuredTool\n",
    "from datetime import date\n",
    "\n",
    "@tool\n",
    "def company_information(ticker: str) -> dict:\n",
    "    \"\"\"Use this tool to retrieve company information like address, industry, sector, company officers, business summary, website,\n",
    "       marketCap, current price, ebitda, total debt, total revenue, debt-to-equity, etc.\"\"\"\n",
    "    \n",
    "    ticker_obj = yf.Ticker(ticker)\n",
    "    ticker_info = ticker_obj.get_info()\n",
    "\n",
    "    return ticker_info\n",
    "\n",
    "@tool\n",
    "def last_dividend_and_earnings_date(ticker: str) -> dict:\n",
    "    \"\"\"\n",
    "    Use this tool to retrieve company's last dividend date and earnings release dates.\n",
    "    It does not provide information about historical dividend yields.\n",
    "    \"\"\"\n",
    "    ticker_obj = yf.Ticker(ticker)\n",
    "    \n",
    "    return ticker_obj.get_calendar()\n",
    "\n",
    "@tool\n",
    "def summary_of_mutual_fund_holders(ticker: str) -> dict:\n",
    "    \"\"\"\n",
    "    Use this tool to retrieve company's top mutual fund holders. \n",
    "    It also returns their percentage of share, stock count and value of holdings.\n",
    "    \"\"\"\n",
    "    ticker_obj = yf.Ticker(ticker)\n",
    "    mf_holders = ticker_obj.get_mutualfund_holders()\n",
    "    \n",
    "    return mf_holders.to_dict(orient=\"records\")\n",
    "\n",
    "@tool\n",
    "def summary_of_institutional_holders(ticker: str) -> dict:\n",
    "    \"\"\"\n",
    "    Use this tool to retrieve company's top institutional holders. \n",
    "    It also returns their percentage of share, stock count and value of holdings.\n",
    "    \"\"\"\n",
    "    ticker_obj = yf.Ticker(ticker)   \n",
    "    inst_holders = ticker_obj.get_institutional_holders()\n",
    "    \n",
    "    return inst_holders.to_dict(orient=\"records\")\n",
    "\n",
    "@tool\n",
    "def stock_grade_updrages_downgrades(ticker: str) -> dict:\n",
    "    \"\"\"\n",
    "    Use this to retrieve grade ratings upgrades and downgrades details of particular stock.\n",
    "    It'll provide name of firms along with 'To Grade' and 'From Grade' details. Grade date is also provided.\n",
    "    \"\"\"\n",
    "    ticker_obj = yf.Ticker(ticker)\n",
    "    \n",
    "    curr_year = date.today().year\n",
    "    \n",
    "    upgrades_downgrades = ticker_obj.get_upgrades_downgrades()\n",
    "    upgrades_downgrades = upgrades_downgrades.loc[upgrades_downgrades.index > f\"{curr_year}-01-01\"]\n",
    "    upgrades_downgrades = upgrades_downgrades[upgrades_downgrades[\"Action\"].isin([\"up\", \"down\"])]\n",
    "    \n",
    "    return upgrades_downgrades.to_dict(orient=\"records\")\n",
    "\n",
    "@tool\n",
    "def stock_splits_history(ticker: str) -> dict:\n",
    "    \"\"\"\n",
    "    Use this tool to retrieve company's historical stock splits data.\n",
    "    \"\"\"\n",
    "    ticker_obj = yf.Ticker(ticker)\n",
    "    hist_splits = ticker_obj.get_splits()\n",
    "    \n",
    "    return hist_splits.to_dict()\n",
    "\n",
    "@tool\n",
    "def stock_news(ticker: str) -> dict:\n",
    "    \"\"\"\n",
    "    Use this to retrieve latest news articles discussing particular stock ticker.\n",
    "    \"\"\"\n",
    "    ticker_obj = yf.Ticker(ticker)\n",
    "    \n",
    "    return ticker_obj.get_news()\n",
    "\n",
    "\n",
    "#stock_news_tool = StructuredTool.from_function(stock_news)"
   ]
  },
  {
   "cell_type": "markdown",
   "id": "d9ce917a",
   "metadata": {},
   "source": [
    "## 3.  Define Agent (LLM + Tools)"
   ]
  },
  {
   "cell_type": "code",
   "execution_count": null,
   "id": "6537182c",
   "metadata": {},
   "outputs": [],
   "source": [
    "from langchain.agents import AgentExecutor, create_tool_calling_agent\n",
    "from langchain_groq import ChatGroq\n",
    "from langchain.prompts import ChatPromptTemplate\n",
    "from langchain_core.prompts import MessagesPlaceholder\n",
    "\n",
    "tools = [\n",
    "         company_information,\n",
    "         last_dividend_and_earnings_date,\n",
    "         stock_splits_history,\n",
    "         summary_of_mutual_fund_holders,\n",
    "         summary_of_institutional_holders, \n",
    "         stock_grade_updrages_downgrades,\n",
    "         stock_news\n",
    "]\n",
    "\n",
    "prompt = ChatPromptTemplate.from_messages(\n",
    "    [\n",
    "        (\n",
    "            \"system\",\n",
    "            \"You are a helpful assistant. Try to answer user query using available tools.\",\n",
    "        ),\n",
    "        MessagesPlaceholder(variable_name=\"messages\"),\n",
    "        MessagesPlaceholder(variable_name=\"agent_scratchpad\"),\n",
    "    ]\n",
    ")\n",
    "\n",
    "llama3 = ChatGroq(api_key=groq_api_key, model=\"llama-3.1-70b-versatile\", temperature=0)\n",
    "\n",
    "finance_agent = create_tool_calling_agent(llama3, tools, prompt)\n",
    "\n",
    "finance_agent_executor = AgentExecutor(agent=finance_agent, tools=tools, verbose=True)"
   ]
  },
  {
   "cell_type": "code",
   "execution_count": null,
   "id": "f61aff0c",
   "metadata": {
    "scrolled": true
   },
   "outputs": [],
   "source": [
    "from langchain_core.messages import HumanMessage\n",
    "\n",
    "resp = finance_agent_executor.invoke({\"messages\": [HumanMessage(content=\"What is address of microsoft?\")]})"
   ]
  },
  {
   "cell_type": "code",
   "execution_count": null,
   "id": "450f15d8",
   "metadata": {},
   "outputs": [],
   "source": [
    "print(resp[\"output\"])"
   ]
  },
  {
   "cell_type": "code",
   "execution_count": null,
   "id": "ce89279f",
   "metadata": {},
   "outputs": [],
   "source": [
    "#finance_agent_executor.verbose = False"
   ]
  },
  {
   "cell_type": "code",
   "execution_count": null,
   "id": "3cfed359",
   "metadata": {
    "scrolled": true
   },
   "outputs": [],
   "source": [
    "resp = finance_agent_executor.invoke({\"messages\": [HumanMessage(content=\"What is last close price of microsoft?\")]})"
   ]
  },
  {
   "cell_type": "code",
   "execution_count": null,
   "id": "3faea985",
   "metadata": {},
   "outputs": [],
   "source": [
    "print(resp[\"output\"])"
   ]
  },
  {
   "cell_type": "code",
   "execution_count": null,
   "id": "74c8865c",
   "metadata": {
    "scrolled": true
   },
   "outputs": [],
   "source": [
    "resp = finance_agent_executor.invoke({\"messages\": [HumanMessage(content=\"What is dividend yield for microsoft stock?\")]})"
   ]
  },
  {
   "cell_type": "code",
   "execution_count": null,
   "id": "5c9853c5",
   "metadata": {},
   "outputs": [],
   "source": [
    "print(resp[\"output\"])"
   ]
  },
  {
   "cell_type": "code",
   "execution_count": null,
   "id": "96e5646d",
   "metadata": {
    "scrolled": true
   },
   "outputs": [],
   "source": [
    "resp = finance_agent_executor.invoke({\"messages\": [HumanMessage(content=\"What are ebitda, total debt, total revenue and debt-to-equity for Nvidia stock?\")]})"
   ]
  },
  {
   "cell_type": "code",
   "execution_count": null,
   "id": "ccff73cd",
   "metadata": {},
   "outputs": [],
   "source": [
    "print(resp[\"output\"])"
   ]
  },
  {
   "cell_type": "code",
   "execution_count": null,
   "id": "0df262c3",
   "metadata": {
    "scrolled": true
   },
   "outputs": [],
   "source": [
    "resp = finance_agent_executor.invoke({\"messages\": [HumanMessage(content=\"Summarize Key people at apple\")]})"
   ]
  },
  {
   "cell_type": "code",
   "execution_count": null,
   "id": "0bd82023",
   "metadata": {},
   "outputs": [],
   "source": [
    "print(resp[\"output\"])"
   ]
  },
  {
   "cell_type": "code",
   "execution_count": null,
   "id": "616f9732",
   "metadata": {
    "scrolled": false
   },
   "outputs": [],
   "source": [
    "resp = finance_agent_executor.invoke({\"messages\": [HumanMessage(content=\"What was last dividend date for apple stock?\")]})"
   ]
  },
  {
   "cell_type": "code",
   "execution_count": null,
   "id": "d8d521a2",
   "metadata": {},
   "outputs": [],
   "source": [
    "print(resp[\"output\"])"
   ]
  },
  {
   "cell_type": "code",
   "execution_count": null,
   "id": "3735ff45",
   "metadata": {
    "scrolled": true
   },
   "outputs": [],
   "source": [
    "resp = finance_agent_executor.invoke({\"messages\": [HumanMessage(content=\"Top mutual fund holders of microsoft stock.\")]})"
   ]
  },
  {
   "cell_type": "code",
   "execution_count": null,
   "id": "e7f0b42c",
   "metadata": {},
   "outputs": [],
   "source": [
    "print(resp[\"output\"])"
   ]
  },
  {
   "cell_type": "code",
   "execution_count": null,
   "id": "d5a1b148",
   "metadata": {
    "scrolled": true
   },
   "outputs": [],
   "source": [
    "resp = finance_agent_executor.invoke({\"messages\": [HumanMessage(content=\"Top institutional holders of microsoft stock.\")]})"
   ]
  },
  {
   "cell_type": "code",
   "execution_count": null,
   "id": "83e2d30e",
   "metadata": {},
   "outputs": [],
   "source": [
    "print(resp[\"output\"])"
   ]
  },
  {
   "cell_type": "code",
   "execution_count": null,
   "id": "86fb3fc0",
   "metadata": {
    "scrolled": true
   },
   "outputs": [],
   "source": [
    "resp = finance_agent_executor.invoke({\"messages\": [HumanMessage(content=\"Which firms recently changed grade of apple stock? Also, return rating changes.\")]})"
   ]
  },
  {
   "cell_type": "code",
   "execution_count": null,
   "id": "dbb9cc00",
   "metadata": {},
   "outputs": [],
   "source": [
    "print(resp[\"output\"])"
   ]
  },
  {
   "cell_type": "code",
   "execution_count": null,
   "id": "d7e65ce0",
   "metadata": {
    "scrolled": true
   },
   "outputs": [],
   "source": [
    "resp = finance_agent_executor.invoke({\"messages\": [HumanMessage(content=\"Can you share latest news articles links discussing apple stocks?\")]})"
   ]
  },
  {
   "cell_type": "code",
   "execution_count": null,
   "id": "5163ab93",
   "metadata": {},
   "outputs": [],
   "source": [
    "print(resp[\"output\"])"
   ]
  },
  {
   "cell_type": "markdown",
   "id": "d1ea7c65",
   "metadata": {},
   "source": [
    "## Summary\n",
    "\n",
    "In this video, I explained how to create **finance agent** using **LangChain**. We used open source LLM **llama-3** for our purpose."
   ]
  },
  {
   "cell_type": "code",
   "execution_count": null,
   "id": "73a4f6a8",
   "metadata": {},
   "outputs": [],
   "source": []
  }
 ],
 "metadata": {
  "kernelspec": {
   "display_name": "Python 3 (ipykernel)",
   "language": "python",
   "name": "python3"
  },
  "language_info": {
   "codemirror_mode": {
    "name": "ipython",
    "version": 3
   },
   "file_extension": ".py",
   "mimetype": "text/x-python",
   "name": "python",
   "nbconvert_exporter": "python",
   "pygments_lexer": "ipython3",
   "version": "3.10.5"
  }
 },
 "nbformat": 4,
 "nbformat_minor": 5
}
